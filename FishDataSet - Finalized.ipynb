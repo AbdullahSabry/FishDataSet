{
 "cells": [
  {
   "cell_type": "code",
   "execution_count": 1,
   "id": "38b11068",
   "metadata": {},
   "outputs": [],
   "source": [
    "# Importing all the necessery libraries for preprocessing\n",
    "\n",
    "import tensorflow as tf\n",
    "import pandas as pd\n",
    "import numpy as np\n",
    "import os\n",
    "from os import listdir\n",
    "from skimage import io\n",
    "import matplotlib.pyplot as plt\n",
    "import matplotlib\n",
    "from sklearn.model_selection import train_test_split\n",
    "from sklearn.preprocessing import LabelEncoder\n",
    "from skimage.color import rgb2gray\n",
    "from skimage import transform\n",
    "from sklearn import metrics\n",
    "import seaborn as sns"
   ]
  },
  {
   "cell_type": "code",
   "execution_count": 2,
   "id": "26274daf",
   "metadata": {},
   "outputs": [],
   "source": [
    "# We're building the dataframe which has the labels, and path of every picture in the dataset\n",
    "\n",
    "def data(folder):\n",
    "    folders = [d for d in listdir(folder) if os.path.isdir(os.path.join(folder,d))]\n",
    "    i = 0\n",
    "    df = pd.DataFrame(columns = ['path', 'id'])\n",
    "    for d in folders:\n",
    "        sub_folders = listdir(os.path.join(folder, d))\n",
    "        sub_folders = [f for f in sub_folders if not f.endswith('GT')]\n",
    "        files_d = [f for f in listdir(os.path.join(folder, d, sub_folders[0])) if f.endswith('.png')]\n",
    "        for file in files_d:\n",
    "            path = os.path.join(folder, d, sub_folders[0], file)\n",
    "            label = sub_folders[0]\n",
    "            df.loc[i] = [path, label]\n",
    "            i += 1\n",
    "    return df"
   ]
  },
  {
   "cell_type": "code",
   "execution_count": 3,
   "id": "8e92992a",
   "metadata": {},
   "outputs": [],
   "source": [
    "main_dir = r'E:\\DataSets\\FishDataSet\\Fish_Dataset\\Fish_Dataset'\n",
    "df = data(main_dir)"
   ]
  },
  {
   "cell_type": "code",
   "execution_count": 4,
   "id": "ec305822",
   "metadata": {},
   "outputs": [
    {
     "name": "stdout",
     "output_type": "stream",
     "text": [
      "<class 'pandas.core.frame.DataFrame'>\n",
      "Int64Index: 9000 entries, 0 to 8999\n",
      "Data columns (total 2 columns):\n",
      " #   Column  Non-Null Count  Dtype \n",
      "---  ------  --------------  ----- \n",
      " 0   path    9000 non-null   object\n",
      " 1   id      9000 non-null   object\n",
      "dtypes: object(2)\n",
      "memory usage: 210.9+ KB\n"
     ]
    }
   ],
   "source": [
    "df.info()"
   ]
  },
  {
   "cell_type": "code",
   "execution_count": 5,
   "id": "f195471c",
   "metadata": {},
   "outputs": [
    {
     "data": {
      "text/html": [
       "<div>\n",
       "<style scoped>\n",
       "    .dataframe tbody tr th:only-of-type {\n",
       "        vertical-align: middle;\n",
       "    }\n",
       "\n",
       "    .dataframe tbody tr th {\n",
       "        vertical-align: top;\n",
       "    }\n",
       "\n",
       "    .dataframe thead th {\n",
       "        text-align: right;\n",
       "    }\n",
       "</style>\n",
       "<table border=\"1\" class=\"dataframe\">\n",
       "  <thead>\n",
       "    <tr style=\"text-align: right;\">\n",
       "      <th></th>\n",
       "      <th>path</th>\n",
       "      <th>id</th>\n",
       "    </tr>\n",
       "  </thead>\n",
       "  <tbody>\n",
       "    <tr>\n",
       "      <th>0</th>\n",
       "      <td>E:\\DataSets\\FishDataSet\\Fish_Dataset\\Fish_Data...</td>\n",
       "      <td>Black Sea Sprat</td>\n",
       "    </tr>\n",
       "    <tr>\n",
       "      <th>1</th>\n",
       "      <td>E:\\DataSets\\FishDataSet\\Fish_Dataset\\Fish_Data...</td>\n",
       "      <td>Black Sea Sprat</td>\n",
       "    </tr>\n",
       "    <tr>\n",
       "      <th>2</th>\n",
       "      <td>E:\\DataSets\\FishDataSet\\Fish_Dataset\\Fish_Data...</td>\n",
       "      <td>Black Sea Sprat</td>\n",
       "    </tr>\n",
       "    <tr>\n",
       "      <th>3</th>\n",
       "      <td>E:\\DataSets\\FishDataSet\\Fish_Dataset\\Fish_Data...</td>\n",
       "      <td>Black Sea Sprat</td>\n",
       "    </tr>\n",
       "    <tr>\n",
       "      <th>4</th>\n",
       "      <td>E:\\DataSets\\FishDataSet\\Fish_Dataset\\Fish_Data...</td>\n",
       "      <td>Black Sea Sprat</td>\n",
       "    </tr>\n",
       "  </tbody>\n",
       "</table>\n",
       "</div>"
      ],
      "text/plain": [
       "                                                path               id\n",
       "0  E:\\DataSets\\FishDataSet\\Fish_Dataset\\Fish_Data...  Black Sea Sprat\n",
       "1  E:\\DataSets\\FishDataSet\\Fish_Dataset\\Fish_Data...  Black Sea Sprat\n",
       "2  E:\\DataSets\\FishDataSet\\Fish_Dataset\\Fish_Data...  Black Sea Sprat\n",
       "3  E:\\DataSets\\FishDataSet\\Fish_Dataset\\Fish_Data...  Black Sea Sprat\n",
       "4  E:\\DataSets\\FishDataSet\\Fish_Dataset\\Fish_Data...  Black Sea Sprat"
      ]
     },
     "execution_count": 5,
     "metadata": {},
     "output_type": "execute_result"
    }
   ],
   "source": [
    "df.head()"
   ]
  },
  {
   "cell_type": "code",
   "execution_count": 6,
   "id": "7a7d7e4b",
   "metadata": {},
   "outputs": [
    {
     "name": "stdout",
     "output_type": "stream",
     "text": [
      "{'Trout': 0, 'Hourse Mackerel': 1, 'Striped Red Mullet': 2, 'Shrimp': 3, 'Sea Bass': 4, 'Black Sea Sprat': 5, 'Red Sea Bream': 6, 'Red Mullet': 7, 'Gilt-Head Bream': 8}\n"
     ]
    }
   ],
   "source": [
    "# Labely encoding our dataframe in order to train it, and use the generator\n",
    "\n",
    "labels = df['id']\n",
    "label_to_int = {}\n",
    "int_to_label = {}\n",
    "for item, i in enumerate(set(labels)):\n",
    "    label_to_int[i] = item\n",
    "    int_to_label[item] = i\n",
    "print(label_to_int)"
   ]
  },
  {
   "cell_type": "code",
   "execution_count": 7,
   "id": "01161110",
   "metadata": {},
   "outputs": [
    {
     "name": "stdout",
     "output_type": "stream",
     "text": [
      "['Black Sea Sprat' 'Black Sea Sprat' 'Black Sea Sprat' ... 'Trout' 'Trout'\n",
      " 'Trout']\n"
     ]
    }
   ],
   "source": [
    "print (df['id'].values)"
   ]
  },
  {
   "cell_type": "code",
   "execution_count": 8,
   "id": "d071da93",
   "metadata": {},
   "outputs": [],
   "source": [
    "labels = []\n",
    "for item in df['id'].values:\n",
    "    labels.append(label_to_int[item])"
   ]
  },
  {
   "cell_type": "code",
   "execution_count": 9,
   "id": "d97a39ef",
   "metadata": {},
   "outputs": [],
   "source": [
    "# The unit list here is just a list with length y which has a value 1 at x, and zero everywhere else\n",
    "\n",
    "def unit_list(x, y):\n",
    "    lst = []\n",
    "    for i in range(y):\n",
    "        if i == x:\n",
    "            lst.append(1)\n",
    "        else:\n",
    "            lst.append(0)\n",
    "    return lst\n",
    "encoded_labels = [unit_list(item, 9) for item in labels]\n",
    "df['id'] = labels"
   ]
  },
  {
   "cell_type": "code",
   "execution_count": 10,
   "id": "20b02785",
   "metadata": {},
   "outputs": [
    {
     "data": {
      "text/html": [
       "<div>\n",
       "<style scoped>\n",
       "    .dataframe tbody tr th:only-of-type {\n",
       "        vertical-align: middle;\n",
       "    }\n",
       "\n",
       "    .dataframe tbody tr th {\n",
       "        vertical-align: top;\n",
       "    }\n",
       "\n",
       "    .dataframe thead th {\n",
       "        text-align: right;\n",
       "    }\n",
       "</style>\n",
       "<table border=\"1\" class=\"dataframe\">\n",
       "  <thead>\n",
       "    <tr style=\"text-align: right;\">\n",
       "      <th></th>\n",
       "      <th>path</th>\n",
       "      <th>id</th>\n",
       "    </tr>\n",
       "  </thead>\n",
       "  <tbody>\n",
       "    <tr>\n",
       "      <th>0</th>\n",
       "      <td>E:\\DataSets\\FishDataSet\\Fish_Dataset\\Fish_Data...</td>\n",
       "      <td>5</td>\n",
       "    </tr>\n",
       "    <tr>\n",
       "      <th>1</th>\n",
       "      <td>E:\\DataSets\\FishDataSet\\Fish_Dataset\\Fish_Data...</td>\n",
       "      <td>5</td>\n",
       "    </tr>\n",
       "    <tr>\n",
       "      <th>2</th>\n",
       "      <td>E:\\DataSets\\FishDataSet\\Fish_Dataset\\Fish_Data...</td>\n",
       "      <td>5</td>\n",
       "    </tr>\n",
       "    <tr>\n",
       "      <th>3</th>\n",
       "      <td>E:\\DataSets\\FishDataSet\\Fish_Dataset\\Fish_Data...</td>\n",
       "      <td>5</td>\n",
       "    </tr>\n",
       "    <tr>\n",
       "      <th>4</th>\n",
       "      <td>E:\\DataSets\\FishDataSet\\Fish_Dataset\\Fish_Data...</td>\n",
       "      <td>5</td>\n",
       "    </tr>\n",
       "  </tbody>\n",
       "</table>\n",
       "</div>"
      ],
      "text/plain": [
       "                                                path  id\n",
       "0  E:\\DataSets\\FishDataSet\\Fish_Dataset\\Fish_Data...   5\n",
       "1  E:\\DataSets\\FishDataSet\\Fish_Dataset\\Fish_Data...   5\n",
       "2  E:\\DataSets\\FishDataSet\\Fish_Dataset\\Fish_Data...   5\n",
       "3  E:\\DataSets\\FishDataSet\\Fish_Dataset\\Fish_Data...   5\n",
       "4  E:\\DataSets\\FishDataSet\\Fish_Dataset\\Fish_Data...   5"
      ]
     },
     "execution_count": 10,
     "metadata": {},
     "output_type": "execute_result"
    }
   ],
   "source": [
    "df.head()"
   ]
  },
  {
   "cell_type": "code",
   "execution_count": 11,
   "id": "87cabc0e",
   "metadata": {},
   "outputs": [
    {
     "data": {
      "text/plain": [
       "[0, 0, 0, 0, 0, 1, 0, 0, 0]"
      ]
     },
     "execution_count": 11,
     "metadata": {},
     "output_type": "execute_result"
    }
   ],
   "source": [
    "encoded_labels[0]"
   ]
  },
  {
   "cell_type": "code",
   "execution_count": 12,
   "id": "d00b5eeb",
   "metadata": {},
   "outputs": [],
   "source": [
    "# Creating the final dataframe with the encoded labels and the file paths\n",
    "\n",
    "columns = []\n",
    "for i in range(len(int_to_label)):\n",
    "    columns.append(int_to_label[i])\n",
    "columns.append('path')\n",
    "\n",
    "final_df = pd.DataFrame(columns = columns)\n",
    "\n",
    "for label in encoded_labels:\n",
    "    item = df['path'].values[encoded_labels.index(label)]\n",
    "    label.append(item)\n",
    "    final_df.loc[len(final_df)] = label\n",
    "        \n"
   ]
  },
  {
   "cell_type": "code",
   "execution_count": 13,
   "id": "c000e2ce",
   "metadata": {},
   "outputs": [
    {
     "data": {
      "text/html": [
       "<div>\n",
       "<style scoped>\n",
       "    .dataframe tbody tr th:only-of-type {\n",
       "        vertical-align: middle;\n",
       "    }\n",
       "\n",
       "    .dataframe tbody tr th {\n",
       "        vertical-align: top;\n",
       "    }\n",
       "\n",
       "    .dataframe thead th {\n",
       "        text-align: right;\n",
       "    }\n",
       "</style>\n",
       "<table border=\"1\" class=\"dataframe\">\n",
       "  <thead>\n",
       "    <tr style=\"text-align: right;\">\n",
       "      <th></th>\n",
       "      <th>Trout</th>\n",
       "      <th>Hourse Mackerel</th>\n",
       "      <th>Striped Red Mullet</th>\n",
       "      <th>Shrimp</th>\n",
       "      <th>Sea Bass</th>\n",
       "      <th>Black Sea Sprat</th>\n",
       "      <th>Red Sea Bream</th>\n",
       "      <th>Red Mullet</th>\n",
       "      <th>Gilt-Head Bream</th>\n",
       "      <th>path</th>\n",
       "    </tr>\n",
       "  </thead>\n",
       "  <tbody>\n",
       "    <tr>\n",
       "      <th>0</th>\n",
       "      <td>0</td>\n",
       "      <td>0</td>\n",
       "      <td>0</td>\n",
       "      <td>0</td>\n",
       "      <td>0</td>\n",
       "      <td>1</td>\n",
       "      <td>0</td>\n",
       "      <td>0</td>\n",
       "      <td>0</td>\n",
       "      <td>E:\\DataSets\\FishDataSet\\Fish_Dataset\\Fish_Data...</td>\n",
       "    </tr>\n",
       "    <tr>\n",
       "      <th>1</th>\n",
       "      <td>0</td>\n",
       "      <td>0</td>\n",
       "      <td>0</td>\n",
       "      <td>0</td>\n",
       "      <td>0</td>\n",
       "      <td>1</td>\n",
       "      <td>0</td>\n",
       "      <td>0</td>\n",
       "      <td>0</td>\n",
       "      <td>E:\\DataSets\\FishDataSet\\Fish_Dataset\\Fish_Data...</td>\n",
       "    </tr>\n",
       "    <tr>\n",
       "      <th>2</th>\n",
       "      <td>0</td>\n",
       "      <td>0</td>\n",
       "      <td>0</td>\n",
       "      <td>0</td>\n",
       "      <td>0</td>\n",
       "      <td>1</td>\n",
       "      <td>0</td>\n",
       "      <td>0</td>\n",
       "      <td>0</td>\n",
       "      <td>E:\\DataSets\\FishDataSet\\Fish_Dataset\\Fish_Data...</td>\n",
       "    </tr>\n",
       "    <tr>\n",
       "      <th>3</th>\n",
       "      <td>0</td>\n",
       "      <td>0</td>\n",
       "      <td>0</td>\n",
       "      <td>0</td>\n",
       "      <td>0</td>\n",
       "      <td>1</td>\n",
       "      <td>0</td>\n",
       "      <td>0</td>\n",
       "      <td>0</td>\n",
       "      <td>E:\\DataSets\\FishDataSet\\Fish_Dataset\\Fish_Data...</td>\n",
       "    </tr>\n",
       "    <tr>\n",
       "      <th>4</th>\n",
       "      <td>0</td>\n",
       "      <td>0</td>\n",
       "      <td>0</td>\n",
       "      <td>0</td>\n",
       "      <td>0</td>\n",
       "      <td>1</td>\n",
       "      <td>0</td>\n",
       "      <td>0</td>\n",
       "      <td>0</td>\n",
       "      <td>E:\\DataSets\\FishDataSet\\Fish_Dataset\\Fish_Data...</td>\n",
       "    </tr>\n",
       "  </tbody>\n",
       "</table>\n",
       "</div>"
      ],
      "text/plain": [
       "  Trout Hourse Mackerel Striped Red Mullet Shrimp Sea Bass Black Sea Sprat  \\\n",
       "0     0               0                  0      0        0               1   \n",
       "1     0               0                  0      0        0               1   \n",
       "2     0               0                  0      0        0               1   \n",
       "3     0               0                  0      0        0               1   \n",
       "4     0               0                  0      0        0               1   \n",
       "\n",
       "  Red Sea Bream Red Mullet Gilt-Head Bream  \\\n",
       "0             0          0               0   \n",
       "1             0          0               0   \n",
       "2             0          0               0   \n",
       "3             0          0               0   \n",
       "4             0          0               0   \n",
       "\n",
       "                                                path  \n",
       "0  E:\\DataSets\\FishDataSet\\Fish_Dataset\\Fish_Data...  \n",
       "1  E:\\DataSets\\FishDataSet\\Fish_Dataset\\Fish_Data...  \n",
       "2  E:\\DataSets\\FishDataSet\\Fish_Dataset\\Fish_Data...  \n",
       "3  E:\\DataSets\\FishDataSet\\Fish_Dataset\\Fish_Data...  \n",
       "4  E:\\DataSets\\FishDataSet\\Fish_Dataset\\Fish_Data...  "
      ]
     },
     "execution_count": 13,
     "metadata": {},
     "output_type": "execute_result"
    }
   ],
   "source": [
    "final_df.head()"
   ]
  },
  {
   "cell_type": "code",
   "execution_count": 14,
   "id": "a15cabb0",
   "metadata": {},
   "outputs": [],
   "source": [
    "# Splitting it for training, validation, and testing. Splitting it this way such that every set has the same ratio of the fish\n",
    "\n",
    "train_df = []\n",
    "valid_df = []\n",
    "test_df = []\n",
    "count = 0\n",
    "for i in range(len(final_df)):\n",
    "    for column in columns:\n",
    "        if final_df.iloc[i][column] == 1:\n",
    "            if count < 600:\n",
    "                train_df.append(final_df.iloc[i])\n",
    "                count += 1\n",
    "            elif count < 800:\n",
    "                valid_df.append(final_df.iloc[i])\n",
    "                count += 1\n",
    "            else:\n",
    "                test_df.append(final_df.iloc[i])\n",
    "                count += 1\n",
    "    if count == 1000:\n",
    "        count = 0"
   ]
  },
  {
   "cell_type": "code",
   "execution_count": 15,
   "id": "67169ea1",
   "metadata": {},
   "outputs": [
    {
     "name": "stdout",
     "output_type": "stream",
     "text": [
      "5400\n",
      "1800\n",
      "1800\n"
     ]
    }
   ],
   "source": [
    "print(len(train_df))\n",
    "print(len(valid_df))\n",
    "print(len(test_df))"
   ]
  },
  {
   "cell_type": "code",
   "execution_count": 16,
   "id": "7764af4d",
   "metadata": {},
   "outputs": [
    {
     "name": "stdout",
     "output_type": "stream",
     "text": [
      "['Trout', 'Hourse Mackerel', 'Striped Red Mullet', 'Shrimp', 'Sea Bass', 'Black Sea Sprat', 'Red Sea Bream', 'Red Mullet', 'Gilt-Head Bream']\n"
     ]
    }
   ],
   "source": [
    "print(columns[:9])"
   ]
  },
  {
   "cell_type": "code",
   "execution_count": 17,
   "id": "79abe935",
   "metadata": {},
   "outputs": [],
   "source": [
    "train_df = pd.DataFrame(train_df, columns = columns)\n",
    "valid_df = pd.DataFrame(valid_df, columns = columns)\n",
    "test_df = pd.DataFrame(test_df, columns = columns)\n"
   ]
  },
  {
   "cell_type": "code",
   "execution_count": 18,
   "id": "ac931bca",
   "metadata": {},
   "outputs": [],
   "source": [
    "from tensorflow.keras.preprocessing.image import ImageDataGenerator"
   ]
  },
  {
   "cell_type": "code",
   "execution_count": 19,
   "id": "cb88729d",
   "metadata": {},
   "outputs": [
    {
     "name": "stdout",
     "output_type": "stream",
     "text": [
      "Found 5400 validated image filenames.\n"
     ]
    }
   ],
   "source": [
    "# Building the generators for the training and testing\n",
    "\n",
    "train_generator = ImageDataGenerator().flow_from_dataframe(\n",
    "    dataframe = train_df,\n",
    "    directory = '',\n",
    "    x_col = 'path',\n",
    "    y_col = columns[:9],\n",
    "    target_size = (590, 445),\n",
    "    shuffle = True,\n",
    "    class_mode = 'raw',\n",
    "    batch_size = 32,\n",
    "    subset = 'training'\n",
    ")"
   ]
  },
  {
   "cell_type": "code",
   "execution_count": 20,
   "id": "533be95d",
   "metadata": {},
   "outputs": [
    {
     "name": "stdout",
     "output_type": "stream",
     "text": [
      "Found 1800 validated image filenames.\n"
     ]
    }
   ],
   "source": [
    "valid_generator = ImageDataGenerator().flow_from_dataframe(\n",
    "    dataframe = valid_df,\n",
    "    directory = '',\n",
    "    x_col = 'path',\n",
    "    y_col = columns[:9],\n",
    "    target_size = (590, 445),\n",
    "    shuffle = True,\n",
    "    class_mode = 'raw',\n",
    "    batch_size = 32,\n",
    ")"
   ]
  },
  {
   "cell_type": "code",
   "execution_count": 21,
   "id": "a49ee43b",
   "metadata": {},
   "outputs": [
    {
     "name": "stdout",
     "output_type": "stream",
     "text": [
      "Found 1800 validated image filenames.\n"
     ]
    }
   ],
   "source": [
    "test_datagen = ImageDataGenerator()\n",
    "test_generator = test_datagen.flow_from_dataframe(\n",
    "    dataframe = test_df,\n",
    "    directory = '',\n",
    "    x_col = 'path',\n",
    "    y_col = columns[:9],\n",
    "    target_size = (590, 445),\n",
    "    shuffle = False,\n",
    "    class_mode = 'raw',\n",
    "    batch_size = 32,\n",
    ")"
   ]
  },
  {
   "cell_type": "code",
   "execution_count": 22,
   "id": "59aa6709",
   "metadata": {},
   "outputs": [],
   "source": [
    "from tensorflow import keras\n",
    "from tensorflow.keras.models import Sequential\n",
    "from tensorflow.keras import layers\n",
    "from tensorflow.keras.layers import Dense\n",
    "from tensorflow.keras.layers import Conv2D\n",
    "from tensorflow.keras.layers import Dropout\n",
    "from tensorflow.keras import callbacks\n",
    "from tensorflow.keras.applications import EfficientNetB1\n",
    "from tensorflow.keras.layers import GlobalAveragePooling2D"
   ]
  },
  {
   "cell_type": "code",
   "execution_count": 23,
   "id": "b5418a6e",
   "metadata": {},
   "outputs": [],
   "source": [
    "# Building the model with various features, using callbacks here helps us avoid overfitting our model\n",
    "\n",
    "eff = EfficientNetB1(include_top = False, input_shape=(590,445,3))\n",
    "for layer in eff.layers:\n",
    "    layer.trainable = False\n",
    "model = Sequential()\n",
    "model.add(eff)\n",
    "model.add(GlobalAveragePooling2D())\n",
    "model.add(Dense(1024, activation = 'relu'))\n",
    "model.add(Dropout(0.2))\n",
    "model.add(Dense(128, activation = 'relu'))\n",
    "model.add(Dropout(0.2))\n",
    "model.add(Dense(9, activation = 'softmax'))\n",
    "plateau = callbacks.ReduceLROnPlateau(monitor = 'val_loss', patience = 1, factor = 0.01, min_lr = 0.0001)\n",
    "early_stopping = callbacks.EarlyStopping(monitor = 'val_loss', patience = 2, restore_best_weights = True, mode = 'min')\n",
    "model.compile(optimizer = 'adam',\n",
    "              loss = 'categorical_crossentropy',\n",
    "              metrics = ['accuracy', tf.keras.metrics.AUC(name=\"auc\")]\n",
    "             )"
   ]
  },
  {
   "cell_type": "code",
   "execution_count": 24,
   "id": "7bd6268a",
   "metadata": {
    "scrolled": true
   },
   "outputs": [
    {
     "name": "stdout",
     "output_type": "stream",
     "text": [
      "Epoch 1/10\n",
      "169/169 [==============================] - 82s 434ms/step - loss: 0.1942 - accuracy: 0.9369 - auc: 0.9978 - val_loss: 0.0376 - val_accuracy: 0.9872 - val_auc: 0.9999\n",
      "Epoch 2/10\n",
      "169/169 [==============================] - 70s 415ms/step - loss: 0.0350 - accuracy: 0.9889 - auc: 0.9996 - val_loss: 0.0542 - val_accuracy: 0.9839 - val_auc: 0.9993\n",
      "Epoch 3/10\n",
      "169/169 [==============================] - 70s 414ms/step - loss: 0.0040 - accuracy: 0.9991 - auc: 1.0000 - val_loss: 0.0207 - val_accuracy: 0.9933 - val_auc: 1.0000\n",
      "Epoch 4/10\n",
      "169/169 [==============================] - 70s 414ms/step - loss: 0.0029 - accuracy: 0.9996 - auc: 1.0000 - val_loss: 0.0170 - val_accuracy: 0.9944 - val_auc: 1.0000\n",
      "Epoch 5/10\n",
      "169/169 [==============================] - 70s 414ms/step - loss: 0.0021 - accuracy: 0.9996 - auc: 1.0000 - val_loss: 0.0200 - val_accuracy: 0.9933 - val_auc: 1.0000\n",
      "Epoch 6/10\n",
      "169/169 [==============================] - 70s 414ms/step - loss: 0.0023 - accuracy: 0.9994 - auc: 1.0000 - val_loss: 0.0184 - val_accuracy: 0.9928 - val_auc: 1.0000\n"
     ]
    },
    {
     "data": {
      "text/plain": [
       "<keras.callbacks.History at 0x203c0d21070>"
      ]
     },
     "execution_count": 24,
     "metadata": {},
     "output_type": "execute_result"
    }
   ],
   "source": [
    "model.fit(train_generator, validation_data = valid_generator, epochs = 10, callbacks = [plateau, early_stopping])"
   ]
  },
  {
   "cell_type": "code",
   "execution_count": 25,
   "id": "c0c4e566",
   "metadata": {},
   "outputs": [
    {
     "name": "stdout",
     "output_type": "stream",
     "text": [
      "57/57 [==============================] - 17s 301ms/step - loss: 0.0170 - accuracy: 0.9928 - auc: 1.0000\n"
     ]
    }
   ],
   "source": [
    "# Testing the model and building a confusion matrix for visualization \n",
    "model.evaluate(test_generator)\n",
    "pred = model.predict(test_generator)"
   ]
  },
  {
   "cell_type": "code",
   "execution_count": 26,
   "id": "606e6edc",
   "metadata": {},
   "outputs": [],
   "source": [
    "pred = np.argmax(pred, axis = 1)"
   ]
  },
  {
   "cell_type": "code",
   "execution_count": 27,
   "id": "e2663194",
   "metadata": {},
   "outputs": [
    {
     "name": "stdout",
     "output_type": "stream",
     "text": [
      "[5 5 5 ... 0 0 0]\n"
     ]
    }
   ],
   "source": [
    "new_test_df = pd.DataFrame(test_df, columns = columns[:9])\n",
    "actual = []\n",
    "for i in range(len(new_test_df)):\n",
    "    actual.append(list(new_test_df.iloc[i]))\n",
    "actual = np.argmax(actual, axis = 1)\n",
    "print(actual)"
   ]
  },
  {
   "cell_type": "code",
   "execution_count": 28,
   "id": "fa213289",
   "metadata": {},
   "outputs": [
    {
     "data": {
      "text/plain": [
       "<AxesSubplot:>"
      ]
     },
     "execution_count": 28,
     "metadata": {},
     "output_type": "execute_result"
    },
    {
     "data": {
      "image/png": "[encoded data removed]",
      "text/plain": [
       "<Figure size 720x432 with 2 Axes>"
      ]
     },
     "metadata": {
      "needs_background": "light"
     },
     "output_type": "display_data"
    }
   ],
   "source": [
    "cf_matrix = metrics.confusion_matrix(actual, pred, normalize = 'true')\n",
    "plt.figure(figsize = (10, 6))\n",
    "sns.heatmap(cf_matrix, annot = True, xticklabels = columns[:9], yticklabels = columns[:9], cmap = 'Blues')"
   ]
  },
  {
   "cell_type": "code",
   "execution_count": null,
   "id": "dfe7f068",
   "metadata": {},
   "outputs": [],
   "source": []
  }
 ],
 "metadata": {
  "kernelspec": {
   "display_name": "Python 3",
   "language": "python",
   "name": "python3"
  },
  "language_info": {
   "codemirror_mode": {
    "name": "ipython",
    "version": 3
   },
   "file_extension": ".py",
   "mimetype": "text/x-python",
   "name": "python",
   "nbconvert_exporter": "python",
   "pygments_lexer": "ipython3",
   "version": "3.8.8"
  }
 },
 "nbformat": 4,
 "nbformat_minor": 5
}
